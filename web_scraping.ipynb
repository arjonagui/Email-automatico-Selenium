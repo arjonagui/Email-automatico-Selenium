{
 "cells": [
  {
   "cell_type": "code",
   "execution_count": 96,
   "metadata": {},
   "outputs": [],
   "source": [
    "import time\n",
    "from selenium import webdriver\n",
    "from selenium.webdriver.common.by import By\n",
    "from webdriver_manager.chrome import ChromeDriverManager\n",
    "from selenium.webdriver.chrome.service import Service\n",
    "\n",
    "options = webdriver.ChromeOptions()\n",
    "options.add_experimental_option(\"detach\", True)\n",
    "\n",
    "servico = Service(ChromeDriverManager().install())\n",
    "#para baixar o chrome driver automaticamente\n",
    "\n",
    "navegador = webdriver.Chrome(options=options, service=servico)\n",
    "\n",
    "#Para entrar no site:\n",
    "navegador.get('https://www.google.com/search?q=bitcoin&rlz=1C1FKPE_enBR1092BR1092&oq=bitcoin&gs_lcrp=EgZjaHJvbWUyBggAEEUYOTIGCAEQRRg80gEIMTM0NGowajeoAgCwAgA&sourceid=chrome&ie=UTF-8')\n"
   ]
  },
  {
   "cell_type": "code",
   "execution_count": 97,
   "metadata": {},
   "outputs": [],
   "source": [
    "#Para interagir com o site:\n",
    "valor_diario = navegador.find_element(By.CLASS_NAME, 'pclqee').text"
   ]
  },
  {
   "cell_type": "code",
   "execution_count": 98,
   "metadata": {},
   "outputs": [
    {
     "name": "stdout",
     "output_type": "stream",
     "text": [
      "(45,50%)\n"
     ]
    }
   ],
   "source": [
    "navegador.find_element(By.XPATH, '//*[@id=\"crypto-updatable_2\"]/div[3]/div[4]/div[1]/div/div[3]/div/div/div/div').click()\n",
    "\n",
    "time.sleep(1)\n",
    "\n",
    "porcentagemMes = navegador.find_element(By.XPATH, '//*[@id=\"crypto-updatable_2\"]/div[3]/span/span[2]').text\n",
    "\n",
    "print(porcentagemMes)"
   ]
  },
  {
   "cell_type": "code",
   "execution_count": 99,
   "metadata": {},
   "outputs": [
    {
     "name": "stdout",
     "output_type": "stream",
     "text": [
      "(211,42%)\n"
     ]
    }
   ],
   "source": [
    "navegador.find_element(By.XPATH, '//*[@id=\"crypto-updatable_2\"]/div[3]/div[4]/div[1]/div/div[6]/div/div/div/div').click()\n",
    "\n",
    "time.sleep(1)\n",
    "\n",
    "porcentagemAno = navegador.find_element(By.XPATH, '//*[@id=\"crypto-updatable_2\"]/div[3]/span/span[2]').text\n",
    "\n",
    "print(porcentagemAno)"
   ]
  },
  {
   "cell_type": "code",
   "execution_count": 100,
   "metadata": {},
   "outputs": [],
   "source": [
    "#Enviar os dados por e-mail\n",
    "\n",
    "import smtplib\n",
    "import email.message\n",
    "\n",
    "\n",
    "def enviar_email():\n",
    "    corpo_email = f\"\"\" \n",
    "    <p>Olá, Guilherme, tudo bem? </p>\n",
    "    <p>Segue meu email automático com as informações sobre Bitcoin! </p>\n",
    "\n",
    "    <p> hoje o Bitcoin está R${valor_diario} </p>\n",
    "\n",
    "    <p> Esse ano o Bitcoin subiu: {porcentagemAno} </p>\n",
    "\n",
    "    \"\"\"\n",
    "\n",
    "    msg = email.message.Message()\n",
    "    msg['Subject'] = \"Valores Bitcoin\"\n",
    "    msg['From'] = 'goesgamer20@gmail.com'\n",
    "    msg['To'] = 'guigoes20@gmail.com'\n",
    "    password = 'yaub udke qxaj kwbw'\n",
    "    msg.add_header('Content-Type', 'text/html')\n",
    "    msg.set_payload(corpo_email)\n",
    "\n",
    "    s = smtplib.SMTP('smtp.gmail.com: 587')\n",
    "    s.starttls()\n",
    "    #Login Credential for sending the email\n",
    "    s.login(msg['From'], password)\n",
    "    s.sendmail(msg['From'], [msg['To']], msg.as_string().encode('utf-8'))\n",
    "    print('Email enviado')"
   ]
  },
  {
   "cell_type": "code",
   "execution_count": 101,
   "metadata": {},
   "outputs": [
    {
     "name": "stdout",
     "output_type": "stream",
     "text": [
      "Email enviado\n"
     ]
    }
   ],
   "source": [
    "enviar_email()"
   ]
  },
  {
   "cell_type": "code",
   "execution_count": 102,
   "metadata": {},
   "outputs": [],
   "source": [
    "navegador.quit()"
   ]
  }
 ],
 "metadata": {
  "kernelspec": {
   "display_name": "Python 3",
   "language": "python",
   "name": "python3"
  },
  "language_info": {
   "codemirror_mode": {
    "name": "ipython",
    "version": 3
   },
   "file_extension": ".py",
   "mimetype": "text/x-python",
   "name": "python",
   "nbconvert_exporter": "python",
   "pygments_lexer": "ipython3",
   "version": "3.12.1"
  }
 },
 "nbformat": 4,
 "nbformat_minor": 2
}
